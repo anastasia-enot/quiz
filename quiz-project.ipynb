{
 "cells": [
  {
   "cell_type": "code",
   "execution_count": null,
   "metadata": {},
   "outputs": [],
   "source": [
    "def Quiz(q, right_ans, count = 0):\n",
    "    count = 0\n",
    "    user_answer = input(q).lower()\n",
    "    while user_answer != right_ans:\n",
    "        print(\"This is not the right answer! You have {} attempts left\".format(2-count))\n",
    "        count += 1 \n",
    "        if count > 2:\n",
    "            break \n",
    "        question = input(\"Try again!\" + q).lower()\n",
    "    return count\n",
    "\n",
    "list_q_a = [(\"Who is Barbara McClintock?\", \"geneticist\"),\n",
    "           (\"When did she get the Nobel Prize?\", \"1983\"),\n",
    "           (\"Which organism did she work on?\", \"maize\")]\n",
    "\n",
    "for question, right_answer in list_q_a:\n",
    "    question = Quiz(question, right_answer)\n",
    "    count = question\n",
    "    if count < 2:\n",
    "        pass\n",
    "    else:\n",
    "        print(\"Too bad, you lost the game\")\n",
    "        break\n",
    "    \n",
    "if count < 2:\n",
    "    print('Bravo! You won the game!') "
   ]
  }
 ],
 "metadata": {
  "kernelspec": {
   "display_name": "Python 3",
   "language": "python",
   "name": "python3"
  },
  "language_info": {
   "codemirror_mode": {
    "name": "ipython",
    "version": 3
   },
   "file_extension": ".py",
   "mimetype": "text/x-python",
   "name": "python",
   "nbconvert_exporter": "python",
   "pygments_lexer": "ipython3",
   "version": "3.8.5"
  }
 },
 "nbformat": 4,
 "nbformat_minor": 4
}
